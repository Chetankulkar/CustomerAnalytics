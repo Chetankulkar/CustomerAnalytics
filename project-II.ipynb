{
 "cells": [
  {
   "cell_type": "code",
   "execution_count": 2,
   "id": "586fb96a",
   "metadata": {},
   "outputs": [],
   "source": [
    "%matplotlib inline\n",
    "import matplotlib.pyplot as plt\n",
    "plt.rcParams[\"figure.figsize\"] = (11, 5)  #set default figure size\n",
    "import numpy as np\n",
    "from numpy import exp\n",
    "from scipy.special import factorial\n",
    "import pandas as pd\n",
    "from mpl_toolkits.mplot3d import Axes3D\n",
    "import statsmodels.api as sm\n",
    "from statsmodels.api import Poisson\n",
    "from scipy import stats\n",
    "from scipy.stats import norm\n",
    "from scipy.stats import poisson\n",
    "from statsmodels.iolib.summary2 import summary_col\n",
    "from scipy.optimize import minimize\n",
    "import mpmath\n",
    "import math\n",
    "from math import e\n",
    "from math import gamma\n",
    "import warnings\n",
    "warnings.filterwarnings(\"ignore\")"
   ]
  },
  {
   "cell_type": "markdown",
   "id": "abccf66b",
   "metadata": {},
   "source": [
    "# Part I"
   ]
  },
  {
   "cell_type": "markdown",
   "id": "b8dd4ed7",
   "metadata": {},
   "source": [
    "<b>1. Consider the hard candy example from class. The associated data is in the file candy.csv. Develop the\n",
    "following models discussed in class using maximum likelihood estimation (MLE):\n",
    "<br>(a) the Poisson model,\n",
    "<br>(b) the NBD model,\n",
    "<br>(c) the Zero Inflated NBD model, and\n",
    "<br>(d) Finite Mixture models for 2, 3, and 4 segments.\n",
    "<br>Report your code and all relevant details, including the estimated values of the parameters for each model and\n",
    "the corresponding log-likelihood values. Please add comments to your code to make it easy to understand."
   ]
  },
  {
   "cell_type": "code",
   "execution_count": 6,
   "id": "cb7d1fab",
   "metadata": {},
   "outputs": [
    {
     "data": {
      "text/html": [
       "<div>\n",
       "<style scoped>\n",
       "    .dataframe tbody tr th:only-of-type {\n",
       "        vertical-align: middle;\n",
       "    }\n",
       "\n",
       "    .dataframe tbody tr th {\n",
       "        vertical-align: top;\n",
       "    }\n",
       "\n",
       "    .dataframe thead th {\n",
       "        text-align: right;\n",
       "    }\n",
       "</style>\n",
       "<table border=\"1\" class=\"dataframe\">\n",
       "  <thead>\n",
       "    <tr style=\"text-align: right;\">\n",
       "      <th></th>\n",
       "      <th>Packs</th>\n",
       "      <th>People</th>\n",
       "    </tr>\n",
       "  </thead>\n",
       "  <tbody>\n",
       "    <tr>\n",
       "      <th>0</th>\n",
       "      <td>0</td>\n",
       "      <td>102</td>\n",
       "    </tr>\n",
       "    <tr>\n",
       "      <th>1</th>\n",
       "      <td>1</td>\n",
       "      <td>54</td>\n",
       "    </tr>\n",
       "    <tr>\n",
       "      <th>2</th>\n",
       "      <td>2</td>\n",
       "      <td>49</td>\n",
       "    </tr>\n",
       "    <tr>\n",
       "      <th>3</th>\n",
       "      <td>3</td>\n",
       "      <td>62</td>\n",
       "    </tr>\n",
       "    <tr>\n",
       "      <th>4</th>\n",
       "      <td>4</td>\n",
       "      <td>44</td>\n",
       "    </tr>\n",
       "    <tr>\n",
       "      <th>5</th>\n",
       "      <td>5</td>\n",
       "      <td>25</td>\n",
       "    </tr>\n",
       "    <tr>\n",
       "      <th>6</th>\n",
       "      <td>6</td>\n",
       "      <td>26</td>\n",
       "    </tr>\n",
       "    <tr>\n",
       "      <th>7</th>\n",
       "      <td>7</td>\n",
       "      <td>15</td>\n",
       "    </tr>\n",
       "    <tr>\n",
       "      <th>8</th>\n",
       "      <td>8</td>\n",
       "      <td>15</td>\n",
       "    </tr>\n",
       "    <tr>\n",
       "      <th>9</th>\n",
       "      <td>9</td>\n",
       "      <td>10</td>\n",
       "    </tr>\n",
       "    <tr>\n",
       "      <th>10</th>\n",
       "      <td>10</td>\n",
       "      <td>10</td>\n",
       "    </tr>\n",
       "    <tr>\n",
       "      <th>11</th>\n",
       "      <td>11</td>\n",
       "      <td>10</td>\n",
       "    </tr>\n",
       "    <tr>\n",
       "      <th>12</th>\n",
       "      <td>12</td>\n",
       "      <td>10</td>\n",
       "    </tr>\n",
       "    <tr>\n",
       "      <th>13</th>\n",
       "      <td>13</td>\n",
       "      <td>3</td>\n",
       "    </tr>\n",
       "    <tr>\n",
       "      <th>14</th>\n",
       "      <td>14</td>\n",
       "      <td>3</td>\n",
       "    </tr>\n",
       "    <tr>\n",
       "      <th>15</th>\n",
       "      <td>15</td>\n",
       "      <td>5</td>\n",
       "    </tr>\n",
       "    <tr>\n",
       "      <th>16</th>\n",
       "      <td>16</td>\n",
       "      <td>5</td>\n",
       "    </tr>\n",
       "    <tr>\n",
       "      <th>17</th>\n",
       "      <td>17</td>\n",
       "      <td>4</td>\n",
       "    </tr>\n",
       "    <tr>\n",
       "      <th>18</th>\n",
       "      <td>18</td>\n",
       "      <td>1</td>\n",
       "    </tr>\n",
       "    <tr>\n",
       "      <th>19</th>\n",
       "      <td>19</td>\n",
       "      <td>2</td>\n",
       "    </tr>\n",
       "    <tr>\n",
       "      <th>20</th>\n",
       "      <td>20</td>\n",
       "      <td>1</td>\n",
       "    </tr>\n",
       "  </tbody>\n",
       "</table>\n",
       "</div>"
      ],
      "text/plain": [
       "    Packs  People\n",
       "0       0     102\n",
       "1       1      54\n",
       "2       2      49\n",
       "3       3      62\n",
       "4       4      44\n",
       "5       5      25\n",
       "6       6      26\n",
       "7       7      15\n",
       "8       8      15\n",
       "9       9      10\n",
       "10     10      10\n",
       "11     11      10\n",
       "12     12      10\n",
       "13     13       3\n",
       "14     14       3\n",
       "15     15       5\n",
       "16     16       5\n",
       "17     17       4\n",
       "18     18       1\n",
       "19     19       2\n",
       "20     20       1"
      ]
     },
     "execution_count": 6,
     "metadata": {},
     "output_type": "execute_result"
    }
   ],
   "source": [
    "df=pd.read_csv(r\"C:\\Users\\cheta\\Downloads\\candy(1).csv\")\n",
    "df"
   ]
  },
  {
   "cell_type": "markdown",
   "id": "dc65e222",
   "metadata": {},
   "source": [
    "<b> (a) the Poisson model"
   ]
  },
  {
   "cell_type": "code",
   "execution_count": 8,
   "id": "a2444c4e",
   "metadata": {},
   "outputs": [],
   "source": [
    "params=0.1"
   ]
  },
  {
   "cell_type": "code",
   "execution_count": 9,
   "id": "898f879c",
   "metadata": {},
   "outputs": [
    {
     "data": {
      "text/html": [
       "<div>\n",
       "<style scoped>\n",
       "    .dataframe tbody tr th:only-of-type {\n",
       "        vertical-align: middle;\n",
       "    }\n",
       "\n",
       "    .dataframe tbody tr th {\n",
       "        vertical-align: top;\n",
       "    }\n",
       "\n",
       "    .dataframe thead th {\n",
       "        text-align: right;\n",
       "    }\n",
       "</style>\n",
       "<table border=\"1\" class=\"dataframe\">\n",
       "  <thead>\n",
       "    <tr style=\"text-align: right;\">\n",
       "      <th></th>\n",
       "      <th>Packs</th>\n",
       "      <th>People</th>\n",
       "    </tr>\n",
       "  </thead>\n",
       "  <tbody>\n",
       "    <tr>\n",
       "      <th>0</th>\n",
       "      <td>0</td>\n",
       "      <td>102</td>\n",
       "    </tr>\n",
       "    <tr>\n",
       "      <th>1</th>\n",
       "      <td>1</td>\n",
       "      <td>54</td>\n",
       "    </tr>\n",
       "    <tr>\n",
       "      <th>2</th>\n",
       "      <td>2</td>\n",
       "      <td>49</td>\n",
       "    </tr>\n",
       "    <tr>\n",
       "      <th>3</th>\n",
       "      <td>3</td>\n",
       "      <td>62</td>\n",
       "    </tr>\n",
       "    <tr>\n",
       "      <th>4</th>\n",
       "      <td>4</td>\n",
       "      <td>44</td>\n",
       "    </tr>\n",
       "    <tr>\n",
       "      <th>5</th>\n",
       "      <td>5</td>\n",
       "      <td>25</td>\n",
       "    </tr>\n",
       "    <tr>\n",
       "      <th>6</th>\n",
       "      <td>6</td>\n",
       "      <td>26</td>\n",
       "    </tr>\n",
       "    <tr>\n",
       "      <th>7</th>\n",
       "      <td>7</td>\n",
       "      <td>15</td>\n",
       "    </tr>\n",
       "    <tr>\n",
       "      <th>8</th>\n",
       "      <td>8</td>\n",
       "      <td>15</td>\n",
       "    </tr>\n",
       "    <tr>\n",
       "      <th>9</th>\n",
       "      <td>9</td>\n",
       "      <td>10</td>\n",
       "    </tr>\n",
       "    <tr>\n",
       "      <th>10</th>\n",
       "      <td>10</td>\n",
       "      <td>10</td>\n",
       "    </tr>\n",
       "    <tr>\n",
       "      <th>11</th>\n",
       "      <td>11</td>\n",
       "      <td>10</td>\n",
       "    </tr>\n",
       "    <tr>\n",
       "      <th>12</th>\n",
       "      <td>12</td>\n",
       "      <td>10</td>\n",
       "    </tr>\n",
       "    <tr>\n",
       "      <th>13</th>\n",
       "      <td>13</td>\n",
       "      <td>3</td>\n",
       "    </tr>\n",
       "    <tr>\n",
       "      <th>14</th>\n",
       "      <td>14</td>\n",
       "      <td>3</td>\n",
       "    </tr>\n",
       "    <tr>\n",
       "      <th>15</th>\n",
       "      <td>15</td>\n",
       "      <td>5</td>\n",
       "    </tr>\n",
       "    <tr>\n",
       "      <th>16</th>\n",
       "      <td>16</td>\n",
       "      <td>5</td>\n",
       "    </tr>\n",
       "    <tr>\n",
       "      <th>17</th>\n",
       "      <td>17</td>\n",
       "      <td>4</td>\n",
       "    </tr>\n",
       "    <tr>\n",
       "      <th>18</th>\n",
       "      <td>18</td>\n",
       "      <td>1</td>\n",
       "    </tr>\n",
       "    <tr>\n",
       "      <th>19</th>\n",
       "      <td>19</td>\n",
       "      <td>2</td>\n",
       "    </tr>\n",
       "    <tr>\n",
       "      <th>20</th>\n",
       "      <td>20</td>\n",
       "      <td>1</td>\n",
       "    </tr>\n",
       "  </tbody>\n",
       "</table>\n",
       "</div>"
      ],
      "text/plain": [
       "    Packs  People\n",
       "0       0     102\n",
       "1       1      54\n",
       "2       2      49\n",
       "3       3      62\n",
       "4       4      44\n",
       "5       5      25\n",
       "6       6      26\n",
       "7       7      15\n",
       "8       8      15\n",
       "9       9      10\n",
       "10     10      10\n",
       "11     11      10\n",
       "12     12      10\n",
       "13     13       3\n",
       "14     14       3\n",
       "15     15       5\n",
       "16     16       5\n",
       "17     17       4\n",
       "18     18       1\n",
       "19     19       2\n",
       "20     20       1"
      ]
     },
     "execution_count": 9,
     "metadata": {},
     "output_type": "execute_result"
    }
   ],
   "source": [
    "inputs=df.copy()\n",
    "inputs"
   ]
  },
  {
   "cell_type": "code",
   "execution_count": 10,
   "id": "f608c0e1",
   "metadata": {},
   "outputs": [],
   "source": [
    "poisson_pmf = lambda k,l: k*np.log(l)-l*(np.log(e))-np.log(factorial(k))"
   ]
  },
  {
   "cell_type": "code",
   "execution_count": 11,
   "id": "8f111ba5",
   "metadata": {},
   "outputs": [],
   "source": [
    "def LL(params,inputs):\n",
    "    lambda0=params\n",
    "    e=inputs['Packs']\n",
    "    p=inputs['People']\n",
    "    sum=0\n",
    "    for i in range(len(inputs)):\n",
    "        sum+=poisson_pmf(e[i],lambda0)*p[i]\n",
    "    return sum"
   ]
  },
  {
   "cell_type": "code",
   "execution_count": 12,
   "id": "84d399e3",
   "metadata": {},
   "outputs": [],
   "source": [
    "def NLL(params, inputs):\n",
    "    return(-(LL(params, inputs)))"
   ]
  },
  {
   "cell_type": "code",
   "execution_count": 13,
   "id": "29d9d64c",
   "metadata": {},
   "outputs": [],
   "source": [
    "final=minimize(NLL,\n",
    "         args=inputs,\n",
    "         x0=params,\n",
    "         bounds=[(0.000001, None)],\n",
    "        tol=1e-10,\n",
    "        options={'ftol' : 1e-8},)"
   ]
  },
  {
   "cell_type": "code",
   "execution_count": 14,
   "id": "86e0abd8",
   "metadata": {},
   "outputs": [
    {
     "data": {
      "text/plain": [
       "      fun: array([1544.99639045])\n",
       " hess_inv: <1x1 LbfgsInvHessProduct with dtype=float64>\n",
       "      jac: array([-2.27373677e-05])\n",
       "  message: 'CONVERGENCE: REL_REDUCTION_OF_F_<=_FACTR*EPSMCH'\n",
       "     nfev: 24\n",
       "      nit: 10\n",
       "     njev: 12\n",
       "   status: 0\n",
       "  success: True\n",
       "        x: array([3.99122805])"
      ]
     },
     "execution_count": 14,
     "metadata": {},
     "output_type": "execute_result"
    }
   ],
   "source": [
    "final"
   ]
  },
  {
   "cell_type": "code",
   "execution_count": 16,
   "id": "0d7346dd",
   "metadata": {},
   "outputs": [
    {
     "name": "stdout",
     "output_type": "stream",
     "text": [
      "The Value for Lambda is  3.991228054895201 . The Value of Maximum Log likelihood is  -1544.996390448967\n"
     ]
    }
   ],
   "source": [
    "print(\"The Value for Lambda is \",final.x[0],\". The Value of Maximum Log likelihood is \",-1*final.fun[0] )"
   ]
  },
  {
   "cell_type": "markdown",
   "id": "00380ba7",
   "metadata": {},
   "source": [
    "<b>(b) the NBD model,\n"
   ]
  },
  {
   "cell_type": "code",
   "execution_count": 17,
   "id": "291281ab",
   "metadata": {},
   "outputs": [],
   "source": [
    "params = np.array([0.1,0.1])"
   ]
  },
  {
   "cell_type": "code",
   "execution_count": 18,
   "id": "f1b53b19",
   "metadata": {},
   "outputs": [],
   "source": [
    "pmf_nbd=lambda a,n,k,t: (np.log(gamma(n+k))-(np.log(gamma(n))+np.log(factorial(k))))+(n*(np.log(a)-np.log(a+t)))+(k*(np.log(t)-np.log(a+t)))"
   ]
  },
  {
   "cell_type": "code",
   "execution_count": 19,
   "id": "0b9ddae5",
   "metadata": {},
   "outputs": [],
   "source": [
    "def NBDLL(params,inputs):\n",
    "    e=inputs['Packs']\n",
    "    p=inputs['People']\n",
    "    n=params[0]\n",
    "    alpha=params[1]\n",
    "    sum=0\n",
    "    for i in range(len(inputs)):\n",
    "        sum+=pmf_nbd(alpha,n,e[i],1)*p[i]\n",
    "    return sum"
   ]
  },
  {
   "cell_type": "code",
   "execution_count": 20,
   "id": "a93e4bc0",
   "metadata": {},
   "outputs": [],
   "source": [
    "def NLL(params, inputs):\n",
    "    return(-(NBDLL(params, inputs)))"
   ]
  },
  {
   "cell_type": "code",
   "execution_count": 21,
   "id": "e9f7f5a0",
   "metadata": {},
   "outputs": [],
   "source": [
    "final=minimize(NLL,\n",
    "         args=inputs,\n",
    "         x0=params,\n",
    "         bounds=[(0.000001, None),(0.000001, None)])"
   ]
  },
  {
   "cell_type": "code",
   "execution_count": 22,
   "id": "4513c219",
   "metadata": {},
   "outputs": [
    {
     "data": {
      "text/plain": [
       "      fun: 1140.023746185597\n",
       " hess_inv: <2x2 LbfgsInvHessProduct with dtype=float64>\n",
       "      jac: array([ 0.00020464, -0.00111413])\n",
       "  message: 'CONVERGENCE: REL_REDUCTION_OF_F_<=_FACTR*EPSMCH'\n",
       "     nfev: 39\n",
       "      nit: 11\n",
       "     njev: 13\n",
       "   status: 0\n",
       "  success: True\n",
       "        x: array([0.99765785, 0.24996243])"
      ]
     },
     "execution_count": 22,
     "metadata": {},
     "output_type": "execute_result"
    }
   ],
   "source": [
    "final"
   ]
  },
  {
   "cell_type": "code",
   "execution_count": 23,
   "id": "e7523fbe",
   "metadata": {},
   "outputs": [
    {
     "name": "stdout",
     "output_type": "stream",
     "text": [
      "The Value for n is  0.9976578501464919  and Alpha is  0.24996242988654846 .The Value of Maximum Log likelihood is  -1140.023746185597\n"
     ]
    }
   ],
   "source": [
    "print(\"The Value for n is \",final.x[0],\" and Alpha is \",final.x[1],\".The Value of Maximum Log likelihood is \",-1*final.fun )"
   ]
  },
  {
   "cell_type": "markdown",
   "id": "8274387a",
   "metadata": {},
   "source": [
    "<b>(c) the Zero Inflated NBD model"
   ]
  },
  {
   "cell_type": "code",
   "execution_count": 24,
   "id": "949a0753",
   "metadata": {},
   "outputs": [],
   "source": [
    "params = np.array([0.1,0.1,0.1])"
   ]
  },
  {
   "cell_type": "code",
   "execution_count": 25,
   "id": "7ab1cb10",
   "metadata": {},
   "outputs": [],
   "source": [
    "pmf_zinbd=lambda a,n,k,t : ((gamma(n+k))/((gamma(n))*factorial(k)))*((a/(a+t))**n)*((t/(a+t))**k)"
   ]
  },
  {
   "cell_type": "code",
   "execution_count": 26,
   "id": "e7230117",
   "metadata": {},
   "outputs": [],
   "source": [
    "def ZINBDLL(params,inputs):\n",
    "    e=inputs['Packs']\n",
    "    p=inputs['People']\n",
    "    pie=params[0]\n",
    "    alpha=params[1]\n",
    "    n=params[2]\n",
    "    sumi=0\n",
    "    ll = 0\n",
    "    for i in range(len(inputs)):\n",
    "        if i == 0:\n",
    "            sumi = pie + ((1-pie) * (pmf_zinbd(alpha,n,e[i],1)))\n",
    "        else:\n",
    "            sumi = ((1-pie) * (pmf_zinbd(alpha,n,e[i],1)))\n",
    "        ll += p[i] * np.log(sumi)\n",
    "\n",
    "    return ll"
   ]
  },
  {
   "cell_type": "code",
   "execution_count": 27,
   "id": "15fc9294",
   "metadata": {},
   "outputs": [],
   "source": [
    "def NLL(params, inputs):\n",
    "    return(-(ZINBDLL(params, inputs)))"
   ]
  },
  {
   "cell_type": "code",
   "execution_count": 28,
   "id": "ce4a9e2f",
   "metadata": {},
   "outputs": [],
   "source": [
    "final=minimize(NLL,\n",
    "         args=inputs,\n",
    "         x0=params,\n",
    "         bounds=[(0.000001, 0.999999),(0.000001, None),(0.000001, None)],\n",
    "         tol=1e-10,\n",
    "         options={'ftol' : 1e-8},)"
   ]
  },
  {
   "cell_type": "code",
   "execution_count": 29,
   "id": "867e1284",
   "metadata": {},
   "outputs": [
    {
     "data": {
      "text/plain": [
       "      fun: 1136.1656408391289\n",
       " hess_inv: <3x3 LbfgsInvHessProduct with dtype=float64>\n",
       "      jac: array([ 0.00500222,  0.00034106, -0.00045475])\n",
       "  message: 'CONVERGENCE: REL_REDUCTION_OF_F_<=_FACTR*EPSMCH'\n",
       "     nfev: 72\n",
       "      nit: 16\n",
       "     njev: 18\n",
       "   status: 0\n",
       "  success: True\n",
       "        x: array([0.11310781, 0.334189  , 1.5039286 ])"
      ]
     },
     "execution_count": 29,
     "metadata": {},
     "output_type": "execute_result"
    }
   ],
   "source": [
    "final"
   ]
  },
  {
   "cell_type": "code",
   "execution_count": 30,
   "id": "ff6b4d63",
   "metadata": {},
   "outputs": [
    {
     "name": "stdout",
     "output_type": "stream",
     "text": [
      "The Value for pie is  0.11310781428091622  and Alpha is  0.3341890033173927 . The Value of Maximum Log likelihood is  -1136.1656408391289\n"
     ]
    }
   ],
   "source": [
    "print(\"The Value for pie is \",final.x[0],\" and Alpha is \",final.x[1],\". The Value of Maximum Log likelihood is \",-1*final.fun )"
   ]
  },
  {
   "cell_type": "markdown",
   "id": "bf5b14f7",
   "metadata": {},
   "source": [
    "<b>(d) Finite Mixture models for 2 segments.\n"
   ]
  },
  {
   "cell_type": "code",
   "execution_count": 31,
   "id": "89fb0d61",
   "metadata": {},
   "outputs": [],
   "source": [
    "params = np.array([0.1,0.1,0.1])"
   ]
  },
  {
   "cell_type": "code",
   "execution_count": 32,
   "id": "0d6da1ba",
   "metadata": {},
   "outputs": [],
   "source": [
    "poisson_pmf1 = lambda l1,k : (l1**k)*(e**(-l1))/factorial(k)"
   ]
  },
  {
   "cell_type": "code",
   "execution_count": 33,
   "id": "d836268f",
   "metadata": {},
   "outputs": [],
   "source": [
    "poisson_pmf2 = lambda l2,k : (l2**k)*(e**(-l2))/factorial(k)"
   ]
  },
  {
   "cell_type": "code",
   "execution_count": 34,
   "id": "d5d0d81d",
   "metadata": {},
   "outputs": [],
   "source": [
    "def ZINBDLL(params,inputs):\n",
    "    e=inputs['Packs']\n",
    "    p=inputs['People']\n",
    "    pie=params[0]\n",
    "    l1=params[1]\n",
    "    l2=params[2]\n",
    "    sumi=0\n",
    "    ll = 0\n",
    "    for i in range(len(inputs)):\n",
    "            sumi = (pie * (poisson_pmf1(l1,e[i]))) + ((1-pie) * (poisson_pmf2(l2,e[i])))\n",
    "            ll += p[i] * np.log(sumi)\n",
    "\n",
    "    return ll"
   ]
  },
  {
   "cell_type": "code",
   "execution_count": 35,
   "id": "b6a0de7b",
   "metadata": {},
   "outputs": [],
   "source": [
    "def NLL(params, inputs):\n",
    "    return(-(ZINBDLL(params, inputs)))"
   ]
  },
  {
   "cell_type": "code",
   "execution_count": 36,
   "id": "9509ccb1",
   "metadata": {},
   "outputs": [],
   "source": [
    "final=minimize(NLL,\n",
    "         args=inputs,\n",
    "         x0=params,\n",
    "         bounds=[(0.000001, 0.999999),(0.000001, None),(0.000001, None)],\n",
    "         tol=1e-10,\n",
    "         options={'ftol' : 1e-8},)"
   ]
  },
  {
   "cell_type": "code",
   "execution_count": 37,
   "id": "ca3b6525",
   "metadata": {},
   "outputs": [
    {
     "data": {
      "text/plain": [
       "      fun: 1188.8328271734968\n",
       " hess_inv: <3x3 LbfgsInvHessProduct with dtype=float64>\n",
       "      jac: array([-1.31876731e-03, -1.81898941e-04,  9.09494627e-05])\n",
       "  message: 'CONVERGENCE: REL_REDUCTION_OF_F_<=_FACTR*EPSMCH'\n",
       "     nfev: 72\n",
       "      nit: 16\n",
       "     njev: 18\n",
       "   status: 0\n",
       "  success: True\n",
       "        x: array([0.70088542, 1.80215233, 9.12069281])"
      ]
     },
     "execution_count": 37,
     "metadata": {},
     "output_type": "execute_result"
    }
   ],
   "source": [
    "final"
   ]
  },
  {
   "cell_type": "code",
   "execution_count": 38,
   "id": "689268ac",
   "metadata": {},
   "outputs": [
    {
     "name": "stdout",
     "output_type": "stream",
     "text": [
      "The Value for pie is  0.7008854180927121  and Lambda1 is  1.802152325447988  and Lambda2 is  9.120692807782783 . The Value of Maximum Log likelihood is  -1188.8328271734968\n"
     ]
    }
   ],
   "source": [
    "print(\"The Value for pie is \",final.x[0],\" and Lambda1 is \",final.x[1],\" and Lambda2 is \",final.x[2],\". The Value of Maximum Log likelihood is \",-1*final.fun )"
   ]
  },
  {
   "cell_type": "markdown",
   "id": "ce7d06bf",
   "metadata": {},
   "source": [
    "<b>(d) Finite Mixture models for 3 segments.\n"
   ]
  },
  {
   "cell_type": "code",
   "execution_count": 80,
   "id": "b825ac6c",
   "metadata": {},
   "outputs": [],
   "source": [
    "params = np.array([1,1,1,2,1])"
   ]
  },
  {
   "cell_type": "code",
   "execution_count": 81,
   "id": "db943851",
   "metadata": {},
   "outputs": [],
   "source": [
    "pie = lambda theta1, theta2: ((e**theta1)/(e**theta1 + e**theta2 + 1)) + ((e**theta2)/(e**theta1 + e**theta2 + 1)) + (1/(e**theta1 + e**theta2 + 1))"
   ]
  },
  {
   "cell_type": "code",
   "execution_count": 82,
   "id": "c7f558f3",
   "metadata": {},
   "outputs": [],
   "source": [
    "pie_sum = lambda theta1, theta2: (e**theta1 + e**theta2 + 1)"
   ]
  },
  {
   "cell_type": "code",
   "execution_count": 83,
   "id": "8cd42942",
   "metadata": {},
   "outputs": [],
   "source": [
    "poisson_pmf = lambda l1,l2,l3,theta1,theta2,k : ((l1**k)*(e**(-l1))/factorial(k))*(e**theta1/pie_sum(theta1,theta2)) + ((l2**k)*(e**(-l2))/factorial(k))*(e**theta2/pie_sum(theta1,theta2)) + ((l3**k)*(e**(-l3))/factorial(k))*(1/pie_sum(theta1,theta2))"
   ]
  },
  {
   "cell_type": "code",
   "execution_count": 84,
   "id": "43384831",
   "metadata": {},
   "outputs": [],
   "source": [
    "def SEG3LL(params,inputs):\n",
    "    e=inputs['Packs']\n",
    "    p=inputs['People']\n",
    "    l1=params[0]\n",
    "    l2=params[1]\n",
    "    l3=params[2]\n",
    "    theta1=params[3]\n",
    "    theta2=params[4]\n",
    "    sumi=0\n",
    "    ll = 0\n",
    "    for i in range(len(inputs)):\n",
    "        sumi = poisson_pmf(l1,l2,l3,theta1,theta2,e[i])\n",
    "        ll += p[i] * np.log(sumi)\n",
    "    return ll"
   ]
  },
  {
   "cell_type": "code",
   "execution_count": 85,
   "id": "83ca08f3",
   "metadata": {},
   "outputs": [],
   "source": [
    "def NLL(params, inputs):\n",
    "    return(-(SEG3LL(params, inputs)))"
   ]
  },
  {
   "cell_type": "code",
   "execution_count": 86,
   "id": "4a8fd1ef",
   "metadata": {},
   "outputs": [],
   "source": [
    "final=minimize(NLL,\n",
    "         args=inputs,\n",
    "         x0=params,\n",
    "         bounds=[(0.000001, None),(0.000001, None),(0.000001, None),(None, None),(None, None)],\n",
    "         tol=1e-10,\n",
    "         options={'ftol' : 1e-8},)"
   ]
  },
  {
   "cell_type": "code",
   "execution_count": 87,
   "id": "c5190dbc",
   "metadata": {},
   "outputs": [
    {
     "data": {
      "text/plain": [
       "      fun: 1132.0429842731146\n",
       " hess_inv: <5x5 LbfgsInvHessProduct with dtype=float64>\n",
       "      jac: array([0.00000000e+00, 4.54747354e-05, 1.97815098e-03, 7.04858394e-04,\n",
       "       3.86535246e-04])\n",
       "  message: 'CONVERGENCE: REL_REDUCTION_OF_F_<=_FACTR*EPSMCH'\n",
       "     nfev: 156\n",
       "      nit: 22\n",
       "     njev: 26\n",
       "   status: 0\n",
       "  success: True\n",
       "        x: array([11.21580038,  3.48331857,  0.2905524 , -0.43040618,  0.67443211])"
      ]
     },
     "execution_count": 87,
     "metadata": {},
     "output_type": "execute_result"
    }
   ],
   "source": [
    "final"
   ]
  },
  {
   "cell_type": "code",
   "execution_count": 88,
   "id": "0aa6f475",
   "metadata": {},
   "outputs": [
    {
     "name": "stdout",
     "output_type": "stream",
     "text": [
      "The Value for lambda1 is  11.21580038437127  and Lambda2 is  3.483318571593005  and Lambda3 is  0.29055239542745726  and theta1 is  -0.43040617532093817  and theta2 is  0.6744321103382401 . The Value of Maximum Log likelihood is  -1132.0429842731146\n"
     ]
    }
   ],
   "source": [
    "print(\"The Value for lambda1 is \",final.x[0],\" and Lambda2 is \",final.x[1],\" and Lambda3 is \",final.x[2],\" and theta1 is \",final.x[3],\" and theta2 is \",final.x[4],\". The Value of Maximum Log likelihood is \",-1*final.fun )"
   ]
  },
  {
   "cell_type": "code",
   "execution_count": 89,
   "id": "f4f97aec",
   "metadata": {},
   "outputs": [],
   "source": [
    "pie1= e**(final.x[3])/pie_sum(final.x[3],final.x[4])\n",
    "pie2= e**(final.x[4])/pie_sum(final.x[3],final.x[4])\n",
    "pie3= 1/pie_sum(final.x[3],final.x[4])"
   ]
  },
  {
   "cell_type": "code",
   "execution_count": 90,
   "id": "cd9cb164",
   "metadata": {},
   "outputs": [
    {
     "name": "stdout",
     "output_type": "stream",
     "text": [
      "Value of pie1= 0.17996557357392923\n",
      "Value of pie2= 0.5432686018493437\n",
      "Value of pie3= 0.2767658245767271\n"
     ]
    }
   ],
   "source": [
    "print(\"Value of pie1=\",pie1)\n",
    "print(\"Value of pie2=\",pie2)\n",
    "print(\"Value of pie3=\",pie3)"
   ]
  },
  {
   "cell_type": "markdown",
   "id": "655489aa",
   "metadata": {},
   "source": [
    "<b>(d) Finite Mixture models for 4 segments.\n"
   ]
  },
  {
   "cell_type": "code",
   "execution_count": 48,
   "id": "60eb931f",
   "metadata": {},
   "outputs": [],
   "source": [
    "params = np.array([1,1,1,1,1,2,3])"
   ]
  },
  {
   "cell_type": "code",
   "execution_count": 49,
   "id": "c2617d94",
   "metadata": {},
   "outputs": [],
   "source": [
    "pie = lambda theta1, theta2,theta3: ((e**theta1)/(e**theta1 + e**theta2 + e**theta3 + 1)) + ((e**theta2)/(e**theta1 + e**theta2 + e**theta3 + 1)) + ((e**theta3)/(e**theta1 + e**theta2 + e**theta3 + 1)) + (1/(e**theta1 + e**theta2 + e**theta3 + 1))"
   ]
  },
  {
   "cell_type": "code",
   "execution_count": 50,
   "id": "05e0339b",
   "metadata": {},
   "outputs": [],
   "source": [
    "pie_sum = lambda theta1, theta2, theta3: (e**theta1 + e**theta2 + e**theta3 + 1)"
   ]
  },
  {
   "cell_type": "code",
   "execution_count": 51,
   "id": "bba85b58",
   "metadata": {},
   "outputs": [],
   "source": [
    "poisson_pmf = lambda l1,l2,l3,l4,theta1,theta2,theta3,k : ((l1**k)*(e**(-l1))/factorial(k))*(e**theta1/pie_sum(theta1,theta2,theta3)) + ((l2**k)*(e**(-l2))/factorial(k))*(e**theta2/pie_sum(theta1,theta2,theta3)) + ((l3**k)*(e**(-l3))/factorial(k))*(e**theta3/pie_sum(theta1,theta2,theta3)) + ((l4**k)*(e**(-l4))/factorial(k))*(1/pie_sum(theta1,theta2,theta3))"
   ]
  },
  {
   "cell_type": "code",
   "execution_count": 52,
   "id": "4e81f1f3",
   "metadata": {},
   "outputs": [],
   "source": [
    "def SEG3LL(params,inputs):\n",
    "    e=inputs['Packs']\n",
    "    p=inputs['People']\n",
    "    l1=params[0]\n",
    "    l2=params[1]\n",
    "    l3=params[2]\n",
    "    l4=params[3]\n",
    "    theta1=params[4]\n",
    "    theta2=params[5]\n",
    "    theta3=params[6]\n",
    "    sumi=0\n",
    "    ll = 0\n",
    "    for i in range(len(inputs)):\n",
    "        sumi = poisson_pmf(l1,l2,l3,l4,theta1,theta2,theta3,e[i])\n",
    "        ll += p[i] * np.log(sumi)\n",
    "    return ll"
   ]
  },
  {
   "cell_type": "code",
   "execution_count": 53,
   "id": "b08196b9",
   "metadata": {},
   "outputs": [],
   "source": [
    "def NLL(params, inputs):\n",
    "    return(-(SEG3LL(params, inputs)))"
   ]
  },
  {
   "cell_type": "code",
   "execution_count": 54,
   "id": "589ffa42",
   "metadata": {},
   "outputs": [],
   "source": [
    "final=minimize(NLL,\n",
    "         args=inputs,\n",
    "         x0=params,\n",
    "         bounds=[(0.000001, None),(0.000001, None),(0.000001, None),(0.000001, None),(None, None),(None, None),(None, None)],\n",
    "         tol=1e-10,\n",
    "         options={'ftol' : 1e-8},)"
   ]
  },
  {
   "cell_type": "code",
   "execution_count": 55,
   "id": "b74df1e0",
   "metadata": {},
   "outputs": [
    {
     "data": {
      "text/plain": [
       "      fun: 1130.0705916281213\n",
       " hess_inv: <7x7 LbfgsInvHessProduct with dtype=float64>\n",
       "      jac: array([ 0.0005457 , -0.00345608, -0.00127329,  0.00175078,  0.00277396,\n",
       "       -0.00031832, -0.00147793])\n",
       "  message: 'CONVERGENCE: REL_REDUCTION_OF_F_<=_FACTR*EPSMCH'\n",
       "     nfev: 632\n",
       "      nit: 62\n",
       "     njev: 79\n",
       "   status: 0\n",
       "  success: True\n",
       "        x: array([ 7.41912218,  0.20471897, 12.87263132,  3.00202207, -1.20013091,\n",
       "       -0.72209099, -1.59835102])"
      ]
     },
     "execution_count": 55,
     "metadata": {},
     "output_type": "execute_result"
    }
   ],
   "source": [
    "final"
   ]
  },
  {
   "cell_type": "code",
   "execution_count": 56,
   "id": "1b678943",
   "metadata": {},
   "outputs": [
    {
     "name": "stdout",
     "output_type": "stream",
     "text": [
      "The Value for lambda1 is  7.419122179159171  and Lambda2 is  0.20471896797905267  and Lambda3 is  12.87263131525968  and Lambda4 is  3.002022073340505  and theta1 is  -1.2001309104633455  and theta2 is  -0.7220909857650893 . The Value of Maximum Log likelihood is  -1130.0705916281213\n"
     ]
    }
   ],
   "source": [
    "print(\"The Value for lambda1 is \",final.x[0],\" and Lambda2 is \",final.x[1],\" and Lambda3 is \",final.x[2],\" and Lambda4 is \",final.x[3],\" and theta1 is \",final.x[4],\" and theta2 is \",final.x[5],\". The Value of Maximum Log likelihood is \",-1*final.fun )"
   ]
  },
  {
   "cell_type": "code",
   "execution_count": 73,
   "id": "e7f6c9b3",
   "metadata": {},
   "outputs": [],
   "source": [
    "pie1= e**(final.x[4])/pie_sum(final.x[4],final.x[5],final.x[6])"
   ]
  },
  {
   "cell_type": "code",
   "execution_count": 74,
   "id": "8ee589d8",
   "metadata": {},
   "outputs": [],
   "source": [
    "pie2= e**(final.x[5])/pie_sum(final.x[4],final.x[5],final.x[6])"
   ]
  },
  {
   "cell_type": "code",
   "execution_count": 75,
   "id": "3169ac0b",
   "metadata": {},
   "outputs": [],
   "source": [
    "pie3= e**(final.x[6])/pie_sum(final.x[4],final.x[5],final.x[6])"
   ]
  },
  {
   "cell_type": "code",
   "execution_count": 76,
   "id": "c44c1431",
   "metadata": {},
   "outputs": [],
   "source": [
    "pie4=1/pie_sum(final.x[4],final.x[5],final.x[6])"
   ]
  },
  {
   "cell_type": "code",
   "execution_count": 78,
   "id": "44b07637",
   "metadata": {},
   "outputs": [
    {
     "name": "stdout",
     "output_type": "stream",
     "text": [
      "Value of pie1= 0.1514010119410262\n",
      "Value of pie2= 0.24419618755327793\n",
      "Value of pie3= 0.10166792969361256\n",
      "Value of pie4= 0.5027348708120832\n"
     ]
    }
   ],
   "source": [
    "print(\"Value of pie1=\",pie1)\n",
    "print(\"Value of pie2=\",pie2)\n",
    "print(\"Value of pie3=\",pie3)\n",
    "print(\"Value of pie4=\",pie4)"
   ]
  },
  {
   "cell_type": "markdown",
   "id": "2f02db4e",
   "metadata": {},
   "source": [
    "<b>3. Based on the 2, 3, and 4-segment finite mixture models, how many packs are the following customers likely to\n",
    "purchase over the next 8 weeks?\n",
    "<br>(a) a customer who purchased 5 packs in the past week, and\n",
    "<br>(b) a customer who purchased 9 packs in the past week."
   ]
  },
  {
   "cell_type": "code",
   "execution_count": 93,
   "id": "1eb49fdf",
   "metadata": {},
   "outputs": [
    {
     "name": "stdout",
     "output_type": "stream",
     "text": [
      "Value of pie1= 0.17996557357392923\n",
      "Value of pie2= 0.5432686018493437\n",
      "Value of pie3= 0.2767658245767271\n",
      "Value of lambda1= 11.21580038437127\n",
      "Value of lambda2= 3.483318571593005\n",
      "Value of lambda3= 0.29055239542745726\n"
     ]
    }
   ],
   "source": [
    "#number of packs to be purchased over the next 8 weeks\n",
    "# (Pi1* p(x=8|Lamba1))/( (Pi1* p(x=8|Lamba1))+ (Pi2* p(x=7|Lamba2))+ (Pi1* p(x=7|Lamba1)))\n",
    "\n",
    "#Here we are using the 3 segment finite mixture model.\n",
    "# Below is the code\n",
    "\n",
    "params = np.array([1,1,1,2,1])\n",
    "\n",
    "pie = lambda theta1, theta2: ((e**theta1)/(e**theta1 + e**theta2 + 1)) + ((e**theta2)/(e**theta1 + e**theta2 + 1)) + (1/(e**theta1 + e**theta2 + 1))\n",
    "\n",
    "pie_sum = lambda theta1, theta2: (e**theta1 + e**theta2 + 1)\n",
    "\n",
    "poisson_pmf = lambda l1,l2,l3,theta1,theta2,k : ((l1**k)*(e**(-l1))/factorial(k))*(e**theta1/pie_sum(theta1,theta2)) + ((l2**k)*(e**(-l2))/factorial(k))*(e**theta2/pie_sum(theta1,theta2)) + ((l3**k)*(e**(-l3))/factorial(k))*(1/pie_sum(theta1,theta2))\n",
    "\n",
    "def SEG3LL(params,inputs):\n",
    "    e=inputs['Packs']\n",
    "    p=inputs['People']\n",
    "    l1=params[0]\n",
    "    l2=params[1]\n",
    "    l3=params[2]\n",
    "    theta1=params[3]\n",
    "    theta2=params[4]\n",
    "    sumi=0\n",
    "    ll = 0\n",
    "    for i in range(len(inputs)):\n",
    "        sumi = poisson_pmf(l1,l2,l3,theta1,theta2,e[i])\n",
    "        ll += p[i] * np.log(sumi)\n",
    "    return ll\n",
    "\n",
    "\n",
    "def NLL(params, inputs):\n",
    "    return(-(SEG3LL(params, inputs)))\n",
    "\n",
    "\n",
    "final=minimize(NLL,\n",
    "         args=inputs,\n",
    "         x0=params,\n",
    "         bounds=[(0.000001, None),(0.000001, None),(0.000001, None),(None, None),(None, None)],\n",
    "         tol=1e-10,\n",
    "         options={'ftol' : 1e-8},)\n",
    "final\n",
    "\n",
    "pie1= e**(final.x[3])/pie_sum(final.x[3],final.x[4])\n",
    "pie2= e**(final.x[4])/pie_sum(final.x[3],final.x[4])\n",
    "pie3= 1/pie_sum(final.x[3],final.x[4])\n",
    "lambda1=final.x[0]\n",
    "lambda2=final.x[1]\n",
    "lambda3=final.x[2]\n",
    "print(\"Value of pie1=\",pie1)\n",
    "print(\"Value of pie2=\",pie2)\n",
    "print(\"Value of pie3=\",pie3)\n",
    "print(\"Value of lambda1=\",lambda1)\n",
    "print(\"Value of lambda2=\",lambda2)\n",
    "print(\"Value of lambda3=\",lambda3)"
   ]
  },
  {
   "cell_type": "markdown",
   "id": "2fd898c4",
   "metadata": {},
   "source": [
    "<b>A customer who purchased 5 packs in the past week."
   ]
  },
  {
   "cell_type": "code",
   "execution_count": 94,
   "id": "4121cb99",
   "metadata": {},
   "outputs": [],
   "source": [
    "poisson_pmf_one_var = lambda k,l: k*np.log(l)-l*(np.log(e))-np.log(factorial(k))"
   ]
  },
  {
   "cell_type": "code",
   "execution_count": 105,
   "id": "6a54277d",
   "metadata": {},
   "outputs": [],
   "source": [
    "#calculating the denominator for customer who purchased 5 packs in segment 1.\n",
    "Denominator=(poisson_pmf_one_var(5,lambda1)*pie1)+(poisson_pmf_one_var(5,lambda2)*pie2)+(poisson_pmf_one_var(5,lambda3)*pie3)"
   ]
  },
  {
   "cell_type": "code",
   "execution_count": 108,
   "id": "a5b783d5",
   "metadata": {},
   "outputs": [],
   "source": [
    "Numerator1=(poisson_pmf_one_var(5,lambda1)*pie1)\n",
    "Numerator2=(poisson_pmf_one_var(5,lambda2)*pie2)\n",
    "Numerator3=(poisson_pmf_one_var(5,lambda3)*pie3)"
   ]
  },
  {
   "cell_type": "code",
   "execution_count": 109,
   "id": "bbcc4698",
   "metadata": {},
   "outputs": [],
   "source": [
    "#p(s=1|x=5)\n",
    "P_Seg_1=Numerator1/Denominator\n",
    "#p(s=2|x=5)\n",
    "P_Seg_2=Numerator2/Denominator\n",
    "#p(s=3|x=5)\n",
    "P_Seg_3=Numerator3/Denominator"
   ]
  },
  {
   "cell_type": "code",
   "execution_count": 110,
   "id": "2844c387",
   "metadata": {},
   "outputs": [],
   "source": [
    "#expected Purchases in one week based on the fact that customer has purchased 5 packs last week \n",
    "Exp_1week=lambda1*P_Seg_1+lambda2*P_Seg_2+lambda3*P_Seg_3"
   ]
  },
  {
   "cell_type": "code",
   "execution_count": 111,
   "id": "114828c4",
   "metadata": {},
   "outputs": [],
   "source": [
    "#Expected Purchases in 8 weeks\n",
    "Exp_8weeks=Exp_1week*8"
   ]
  },
  {
   "cell_type": "code",
   "execution_count": 112,
   "id": "60b6557c",
   "metadata": {},
   "outputs": [
    {
     "name": "stdout",
     "output_type": "stream",
     "text": [
      "Expected purchases with 3 segment finite mixture model where customer purchased 5 packs last week is  20.55919703507159\n"
     ]
    }
   ],
   "source": [
    "print(\"Expected purchases with 3 segment finite mixture model where customer purchased 5 packs last week is \", Exp_8weeks)"
   ]
  },
  {
   "cell_type": "markdown",
   "id": "81ad4070",
   "metadata": {},
   "source": [
    "<b> A customer who purchased 9 packs in the past week."
   ]
  },
  {
   "cell_type": "code",
   "execution_count": 115,
   "id": "9671a714",
   "metadata": {},
   "outputs": [],
   "source": [
    "#calculating the denominator for customer who purchased 9 packs in segment 1.\n",
    "Denominator=(poisson_pmf_one_var(9,lambda1)*pie1)+(poisson_pmf_one_var(9,lambda2)*pie2)+(poisson_pmf_one_var(9,lambda3)*pie3)"
   ]
  },
  {
   "cell_type": "code",
   "execution_count": 116,
   "id": "08d45803",
   "metadata": {},
   "outputs": [],
   "source": [
    "Numerator1=(poisson_pmf_one_var(9,lambda1)*pie1)\n",
    "Numerator2=(poisson_pmf_one_var(9,lambda2)*pie2)\n",
    "Numerator3=(poisson_pmf_one_var(9,lambda3)*pie3)"
   ]
  },
  {
   "cell_type": "code",
   "execution_count": 117,
   "id": "3e9fa73a",
   "metadata": {},
   "outputs": [],
   "source": [
    "#p(s=1|x=9)\n",
    "P_Seg_1=Numerator1/Denominator\n",
    "#p(s=2|x=9)\n",
    "P_Seg_2=Numerator2/Denominator\n",
    "#p(s=3|x=9)\n",
    "P_Seg_3=Numerator3/Denominator"
   ]
  },
  {
   "cell_type": "code",
   "execution_count": 118,
   "id": "cb0592b3",
   "metadata": {},
   "outputs": [],
   "source": [
    "#expected Purchases in one week based on the fact that customer has purchased 9 packs last week \n",
    "Exp_1week=lambda1*P_Seg_1+lambda2*P_Seg_2+lambda3*P_Seg_3"
   ]
  },
  {
   "cell_type": "code",
   "execution_count": 119,
   "id": "8daf5b09",
   "metadata": {},
   "outputs": [],
   "source": [
    "#Expected Purchases in 8 weeks\n",
    "Exp_8weeks=Exp_1week*8"
   ]
  },
  {
   "cell_type": "code",
   "execution_count": 120,
   "id": "5b5f2831",
   "metadata": {},
   "outputs": [
    {
     "name": "stdout",
     "output_type": "stream",
     "text": [
      "Expected purchases with 3 segment finite mixture model where customer purchased 9 packs last week is  13.050042128951457\n"
     ]
    }
   ],
   "source": [
    "print(\"Expected purchases with 3 segment finite mixture model where customer purchased 9 packs last week is \", Exp_8weeks)"
   ]
  },
  {
   "cell_type": "markdown",
   "id": "d7a4dc7a",
   "metadata": {},
   "source": [
    "# Part II"
   ]
  },
  {
   "cell_type": "markdown",
   "id": "e488509c",
   "metadata": {},
   "source": [
    "<b>1. Estimate all relevant parameters for Poisson regression using MLE. Report your code, the estimated parameters and the maximum value of the log-likelihood. What are the managerial takeaways — which customer\n",
    "characteristics seem to be important?\n"
   ]
  },
  {
   "cell_type": "code",
   "execution_count": 104,
   "id": "3ad3b28d",
   "metadata": {},
   "outputs": [
    {
     "data": {
      "text/html": [
       "<div>\n",
       "<style scoped>\n",
       "    .dataframe tbody tr th:only-of-type {\n",
       "        vertical-align: middle;\n",
       "    }\n",
       "\n",
       "    .dataframe tbody tr th {\n",
       "        vertical-align: top;\n",
       "    }\n",
       "\n",
       "    .dataframe thead th {\n",
       "        text-align: right;\n",
       "    }\n",
       "</style>\n",
       "<table border=\"1\" class=\"dataframe\">\n",
       "  <thead>\n",
       "    <tr style=\"text-align: right;\">\n",
       "      <th></th>\n",
       "      <th>articles</th>\n",
       "      <th>female</th>\n",
       "      <th>married</th>\n",
       "      <th>kids</th>\n",
       "      <th>prestige</th>\n",
       "      <th>menpubs</th>\n",
       "    </tr>\n",
       "  </thead>\n",
       "  <tbody>\n",
       "    <tr>\n",
       "      <th>0</th>\n",
       "      <td>0</td>\n",
       "      <td>0</td>\n",
       "      <td>1</td>\n",
       "      <td>0</td>\n",
       "      <td>2.52</td>\n",
       "      <td>7</td>\n",
       "    </tr>\n",
       "    <tr>\n",
       "      <th>1</th>\n",
       "      <td>0</td>\n",
       "      <td>1</td>\n",
       "      <td>0</td>\n",
       "      <td>0</td>\n",
       "      <td>2.05</td>\n",
       "      <td>6</td>\n",
       "    </tr>\n",
       "    <tr>\n",
       "      <th>2</th>\n",
       "      <td>0</td>\n",
       "      <td>1</td>\n",
       "      <td>0</td>\n",
       "      <td>0</td>\n",
       "      <td>3.75</td>\n",
       "      <td>6</td>\n",
       "    </tr>\n",
       "    <tr>\n",
       "      <th>3</th>\n",
       "      <td>0</td>\n",
       "      <td>0</td>\n",
       "      <td>1</td>\n",
       "      <td>1</td>\n",
       "      <td>1.18</td>\n",
       "      <td>3</td>\n",
       "    </tr>\n",
       "    <tr>\n",
       "      <th>4</th>\n",
       "      <td>0</td>\n",
       "      <td>1</td>\n",
       "      <td>0</td>\n",
       "      <td>0</td>\n",
       "      <td>3.75</td>\n",
       "      <td>26</td>\n",
       "    </tr>\n",
       "    <tr>\n",
       "      <th>...</th>\n",
       "      <td>...</td>\n",
       "      <td>...</td>\n",
       "      <td>...</td>\n",
       "      <td>...</td>\n",
       "      <td>...</td>\n",
       "      <td>...</td>\n",
       "    </tr>\n",
       "    <tr>\n",
       "      <th>910</th>\n",
       "      <td>11</td>\n",
       "      <td>0</td>\n",
       "      <td>1</td>\n",
       "      <td>2</td>\n",
       "      <td>2.86</td>\n",
       "      <td>7</td>\n",
       "    </tr>\n",
       "    <tr>\n",
       "      <th>911</th>\n",
       "      <td>12</td>\n",
       "      <td>0</td>\n",
       "      <td>1</td>\n",
       "      <td>1</td>\n",
       "      <td>4.29</td>\n",
       "      <td>35</td>\n",
       "    </tr>\n",
       "    <tr>\n",
       "      <th>912</th>\n",
       "      <td>12</td>\n",
       "      <td>0</td>\n",
       "      <td>1</td>\n",
       "      <td>1</td>\n",
       "      <td>1.86</td>\n",
       "      <td>5</td>\n",
       "    </tr>\n",
       "    <tr>\n",
       "      <th>913</th>\n",
       "      <td>16</td>\n",
       "      <td>0</td>\n",
       "      <td>1</td>\n",
       "      <td>0</td>\n",
       "      <td>1.74</td>\n",
       "      <td>21</td>\n",
       "    </tr>\n",
       "    <tr>\n",
       "      <th>914</th>\n",
       "      <td>19</td>\n",
       "      <td>0</td>\n",
       "      <td>1</td>\n",
       "      <td>0</td>\n",
       "      <td>1.86</td>\n",
       "      <td>42</td>\n",
       "    </tr>\n",
       "  </tbody>\n",
       "</table>\n",
       "<p>915 rows × 6 columns</p>\n",
       "</div>"
      ],
      "text/plain": [
       "     articles  female  married  kids  prestige  menpubs\n",
       "0           0       0        1     0      2.52        7\n",
       "1           0       1        0     0      2.05        6\n",
       "2           0       1        0     0      3.75        6\n",
       "3           0       0        1     1      1.18        3\n",
       "4           0       1        0     0      3.75       26\n",
       "..        ...     ...      ...   ...       ...      ...\n",
       "910        11       0        1     2      2.86        7\n",
       "911        12       0        1     1      4.29       35\n",
       "912        12       0        1     1      1.86        5\n",
       "913        16       0        1     0      1.74       21\n",
       "914        19       0        1     0      1.86       42\n",
       "\n",
       "[915 rows x 6 columns]"
      ]
     },
     "execution_count": 104,
     "metadata": {},
     "output_type": "execute_result"
    }
   ],
   "source": [
    "kc=pd.read_csv(r'C:\\Users\\cheta\\Downloads\\articles (1).csv')\n",
    "inputs=kc.copy()\n",
    "inputs"
   ]
  },
  {
   "cell_type": "code",
   "execution_count": 105,
   "id": "464f79df",
   "metadata": {},
   "outputs": [],
   "source": [
    "# QUESTION 3 POISSON REGRESSION\n",
    "poisson_pmf = lambda k,l: k*np.log(l)-l*(np.log(e))-np.log(factorial(k))\n"
   ]
  },
  {
   "cell_type": "code",
   "execution_count": 106,
   "id": "f47c984b",
   "metadata": {},
   "outputs": [],
   "source": [
    "params = np.array([0.01,0.01,0.1,0.01,0.01,0.01])"
   ]
  },
  {
   "cell_type": "code",
   "execution_count": 107,
   "id": "56228704",
   "metadata": {},
   "outputs": [
    {
     "data": {
      "text/plain": [
       "array([0.01, 0.1 , 0.01, 0.01, 0.01])"
      ]
     },
     "execution_count": 107,
     "metadata": {},
     "output_type": "execute_result"
    }
   ],
   "source": [
    "params[1:len(params)]"
   ]
  },
  {
   "cell_type": "code",
   "execution_count": 108,
   "id": "62fb1ec2",
   "metadata": {},
   "outputs": [],
   "source": [
    "def LL(params,inputs):\n",
    "    k=inputs['articles'].tolist()\n",
    "    kc1=inputs.drop(['articles'],axis=1)\n",
    "    a=kc1.to_numpy().tolist()\n",
    "    beta=params[1:len(params)]\n",
    "    lambda0=params[0]\n",
    "    lambdai=0\n",
    "    sum2=0\n",
    "    sum1=0\n",
    "    \n",
    "    for i in range(len(a)):\n",
    "        sum1=0\n",
    "        for j in range(len(a[i])):\n",
    "            sum1=sum1+beta[j]*a[i][j]\n",
    "        lambdai=lambda0*np.exp(sum1)\n",
    "        sum2=sum2+poisson_pmf(k[i],lambdai)\n",
    "    return sum2"
   ]
  },
  {
   "cell_type": "code",
   "execution_count": 109,
   "id": "37a8d9e7",
   "metadata": {},
   "outputs": [],
   "source": [
    "def NegLL(params, inputs):\n",
    "    return(-(LL(params, inputs)))"
   ]
  },
  {
   "cell_type": "code",
   "execution_count": 110,
   "id": "6bd00136",
   "metadata": {},
   "outputs": [],
   "source": [
    "final=minimize(NegLL,\n",
    "         args=inputs,\n",
    "         x0=params,\n",
    "         bounds=[(0.000001, None),(None, None), (None, None),(None, None), (None, None),(None, None)])"
   ]
  },
  {
   "cell_type": "code",
   "execution_count": 111,
   "id": "eaf49e99",
   "metadata": {},
   "outputs": [
    {
     "name": "stdout",
     "output_type": "stream",
     "text": [
      "The Value for lambda is  1.3560303699561786 Beta parameters are  [-0.22451766  0.1553575  -0.18497029  0.01283066  0.02554278] .The Value of Maximum Log likelihood is  -1651.0563217267415\n"
     ]
    }
   ],
   "source": [
    "print(\"The Value for lambda is \",final.x[0],\"Beta parameters are \",final.x[1:len(params)],\".The Value of Maximum Log likelihood is \",-1*final.fun )"
   ]
  },
  {
   "cell_type": "markdown",
   "id": "cdb49f0b",
   "metadata": {},
   "source": [
    "<b>2. Estimate all relevant parameters for NBD Regression using MLE. Report your code, the estimated parameters and the maximum value of the log-likelihood. What are the managerial takeaways — which customer\n",
    "characteristics seem to be important?\n"
   ]
  },
  {
   "cell_type": "code",
   "execution_count": 112,
   "id": "e20c552f",
   "metadata": {},
   "outputs": [
    {
     "data": {
      "text/html": [
       "<div>\n",
       "<style scoped>\n",
       "    .dataframe tbody tr th:only-of-type {\n",
       "        vertical-align: middle;\n",
       "    }\n",
       "\n",
       "    .dataframe tbody tr th {\n",
       "        vertical-align: top;\n",
       "    }\n",
       "\n",
       "    .dataframe thead th {\n",
       "        text-align: right;\n",
       "    }\n",
       "</style>\n",
       "<table border=\"1\" class=\"dataframe\">\n",
       "  <thead>\n",
       "    <tr style=\"text-align: right;\">\n",
       "      <th></th>\n",
       "      <th>articles</th>\n",
       "      <th>female</th>\n",
       "      <th>married</th>\n",
       "      <th>kids</th>\n",
       "      <th>prestige</th>\n",
       "      <th>menpubs</th>\n",
       "    </tr>\n",
       "  </thead>\n",
       "  <tbody>\n",
       "    <tr>\n",
       "      <th>0</th>\n",
       "      <td>0</td>\n",
       "      <td>0</td>\n",
       "      <td>1</td>\n",
       "      <td>0</td>\n",
       "      <td>2.52</td>\n",
       "      <td>7</td>\n",
       "    </tr>\n",
       "    <tr>\n",
       "      <th>1</th>\n",
       "      <td>0</td>\n",
       "      <td>1</td>\n",
       "      <td>0</td>\n",
       "      <td>0</td>\n",
       "      <td>2.05</td>\n",
       "      <td>6</td>\n",
       "    </tr>\n",
       "    <tr>\n",
       "      <th>2</th>\n",
       "      <td>0</td>\n",
       "      <td>1</td>\n",
       "      <td>0</td>\n",
       "      <td>0</td>\n",
       "      <td>3.75</td>\n",
       "      <td>6</td>\n",
       "    </tr>\n",
       "    <tr>\n",
       "      <th>3</th>\n",
       "      <td>0</td>\n",
       "      <td>0</td>\n",
       "      <td>1</td>\n",
       "      <td>1</td>\n",
       "      <td>1.18</td>\n",
       "      <td>3</td>\n",
       "    </tr>\n",
       "    <tr>\n",
       "      <th>4</th>\n",
       "      <td>0</td>\n",
       "      <td>1</td>\n",
       "      <td>0</td>\n",
       "      <td>0</td>\n",
       "      <td>3.75</td>\n",
       "      <td>26</td>\n",
       "    </tr>\n",
       "    <tr>\n",
       "      <th>...</th>\n",
       "      <td>...</td>\n",
       "      <td>...</td>\n",
       "      <td>...</td>\n",
       "      <td>...</td>\n",
       "      <td>...</td>\n",
       "      <td>...</td>\n",
       "    </tr>\n",
       "    <tr>\n",
       "      <th>910</th>\n",
       "      <td>11</td>\n",
       "      <td>0</td>\n",
       "      <td>1</td>\n",
       "      <td>2</td>\n",
       "      <td>2.86</td>\n",
       "      <td>7</td>\n",
       "    </tr>\n",
       "    <tr>\n",
       "      <th>911</th>\n",
       "      <td>12</td>\n",
       "      <td>0</td>\n",
       "      <td>1</td>\n",
       "      <td>1</td>\n",
       "      <td>4.29</td>\n",
       "      <td>35</td>\n",
       "    </tr>\n",
       "    <tr>\n",
       "      <th>912</th>\n",
       "      <td>12</td>\n",
       "      <td>0</td>\n",
       "      <td>1</td>\n",
       "      <td>1</td>\n",
       "      <td>1.86</td>\n",
       "      <td>5</td>\n",
       "    </tr>\n",
       "    <tr>\n",
       "      <th>913</th>\n",
       "      <td>16</td>\n",
       "      <td>0</td>\n",
       "      <td>1</td>\n",
       "      <td>0</td>\n",
       "      <td>1.74</td>\n",
       "      <td>21</td>\n",
       "    </tr>\n",
       "    <tr>\n",
       "      <th>914</th>\n",
       "      <td>19</td>\n",
       "      <td>0</td>\n",
       "      <td>1</td>\n",
       "      <td>0</td>\n",
       "      <td>1.86</td>\n",
       "      <td>42</td>\n",
       "    </tr>\n",
       "  </tbody>\n",
       "</table>\n",
       "<p>915 rows × 6 columns</p>\n",
       "</div>"
      ],
      "text/plain": [
       "     articles  female  married  kids  prestige  menpubs\n",
       "0           0       0        1     0      2.52        7\n",
       "1           0       1        0     0      2.05        6\n",
       "2           0       1        0     0      3.75        6\n",
       "3           0       0        1     1      1.18        3\n",
       "4           0       1        0     0      3.75       26\n",
       "..        ...     ...      ...   ...       ...      ...\n",
       "910        11       0        1     2      2.86        7\n",
       "911        12       0        1     1      4.29       35\n",
       "912        12       0        1     1      1.86        5\n",
       "913        16       0        1     0      1.74       21\n",
       "914        19       0        1     0      1.86       42\n",
       "\n",
       "[915 rows x 6 columns]"
      ]
     },
     "execution_count": 112,
     "metadata": {},
     "output_type": "execute_result"
    }
   ],
   "source": [
    "#QUESTION 4 \n",
    "#NBD REGRESSION \n",
    "kc=pd.read_csv(r'C:\\Users\\cheta\\Downloads\\articles (1).csv')\n",
    "inputs=kc.copy()\n",
    "inputs"
   ]
  },
  {
   "cell_type": "code",
   "execution_count": 113,
   "id": "7b4f0cf3",
   "metadata": {},
   "outputs": [],
   "source": [
    "params = np.array([0.1,0.1,0.1,0.1,0.1,0.1,0.1])"
   ]
  },
  {
   "cell_type": "code",
   "execution_count": 114,
   "id": "5530465b",
   "metadata": {},
   "outputs": [],
   "source": [
    "pmf_nbd=lambda a,n,k,t: (np.log(gamma(n+k))-(np.log(gamma(n))+np.log(factorial(k))))+(n*(np.log(a)-np.log(a+t)))+(k*(np.log(t)-np.log(a+t)))\n"
   ]
  },
  {
   "cell_type": "code",
   "execution_count": 115,
   "id": "051f8181",
   "metadata": {},
   "outputs": [],
   "source": [
    "def NBDLL(params,inputs):\n",
    "    k=inputs['articles'].tolist()\n",
    "    kc1=inputs.drop(['articles'],axis=1)\n",
    "    a=kc1.to_numpy().tolist()\n",
    "    beta=params[2:len(params)]\n",
    "    alpha=params[0]\n",
    "    n=params[1]\n",
    "    lambdai=0\n",
    "    sum2=0\n",
    "    sum1=0\n",
    "    for i in range(len(a)):\n",
    "        sum1=0\n",
    "        for j in range(len(a[i])):\n",
    "            sum1=sum1+beta[j]*a[i][j]\n",
    "        t=np.exp(sum1)\n",
    "        sum2=sum2+pmf_nbd(alpha,n,k[i],t)\n",
    "    return sum2"
   ]
  },
  {
   "cell_type": "code",
   "execution_count": 116,
   "id": "92af7c04",
   "metadata": {},
   "outputs": [],
   "source": [
    "def NegLL(params, inputs):\n",
    "    return(-(NBDLL(params, inputs)))"
   ]
  },
  {
   "cell_type": "code",
   "execution_count": 117,
   "id": "f214e77d",
   "metadata": {},
   "outputs": [],
   "source": [
    "final=minimize(NegLL,\n",
    "         args=inputs,\n",
    "         x0=params,\n",
    "         bounds=[(0.000001, None),(0.000001, None),(None, None), (None, None), (None, None), (None, None),(None, None)])\n"
   ]
  },
  {
   "cell_type": "code",
   "execution_count": 118,
   "id": "b2cbc6f6",
   "metadata": {},
   "outputs": [
    {
     "name": "stdout",
     "output_type": "stream",
     "text": [
      "The Value for n is  2.2642417083161877  and Alpha is  1.7524151977255495\n",
      "The values for the beta parameters are [-0.21635544  0.15047396 -0.17641105  0.01523462  0.02908268]\n",
      "The Value of Maximum Log likelihood is  -1560.9583396776768\n"
     ]
    }
   ],
   "source": [
    "print(\"The Value for n is \",final.x[1],\" and Alpha is \",final.x[0])\n",
    "print(\"The values for the beta parameters are\",final.x[2:len(params)])\n",
    "print(\"The Value of Maximum Log likelihood is \",-1*final.fun)"
   ]
  },
  {
   "cell_type": "markdown",
   "id": "715ed808",
   "metadata": {},
   "source": [
    "<b>3. In this question, you will apply the ideas learned in this course to build a model that you have not seen before\n",
    "– the Zero Inflated NBD Regression.\n",
    "<br>First, recall that zero inflated models view 0s as coming from 2 sources - (i) from a fraction π who is 0 “by\n",
    "type” (in the context of this problem, these are candidates who will never publish), and (ii) from the remaining\n",
    "fraction (1 − π) who are likely to eventually become nonzero (these are candidates who will publish at some\n",
    "point, but have not done so yet). You can assume that the candidates in the latter group are distributed as a\n",
    "negative binomial (making the NBD regression appropriate for them).\n",
    "<br>Explain the logic used in developing the model in detail. (hint: you do not need anything beyond\n",
    "what you have learned in the class to do this.)\n",
    "<br>Report your code, the estimated parameters and the maximum value of the log-likelihood. What are the\n",
    "managerial takeaways — which customer characteristics seem to be important?\n"
   ]
  },
  {
   "cell_type": "code",
   "execution_count": 50,
   "id": "ce7591ec",
   "metadata": {},
   "outputs": [],
   "source": [
    "params=np.array((0.1,0.1,0.1,0.1,0.1,1,1,0.9))"
   ]
  },
  {
   "cell_type": "code",
   "execution_count": 51,
   "id": "cd775beb",
   "metadata": {},
   "outputs": [],
   "source": [
    "pmf_nbd=lambda a,n,k,t: (np.log(gamma(n+k))-(np.log(gamma(n))+np.log(factorial(k))))+(n*(np.log(a)-np.log(a+t)))+(k*(np.log(t)-np.log(a+t)))"
   ]
  },
  {
   "cell_type": "code",
   "execution_count": 52,
   "id": "9f18fdf3",
   "metadata": {},
   "outputs": [],
   "source": [
    "pmf_zinbd=lambda a,n,k,t : ((gamma(n+k))/((gamma(n))*factorial(k)))*((a/(a+t))**n)*((t/(a+t))**k)"
   ]
  },
  {
   "cell_type": "code",
   "execution_count": 53,
   "id": "baaf98b8",
   "metadata": {},
   "outputs": [],
   "source": [
    "df=pd.read_csv(r\"C:\\Users\\cheta\\Downloads\\articles (1).csv\")"
   ]
  },
  {
   "cell_type": "code",
   "execution_count": 54,
   "id": "ebb1d9f9",
   "metadata": {},
   "outputs": [
    {
     "data": {
      "text/html": [
       "<div>\n",
       "<style scoped>\n",
       "    .dataframe tbody tr th:only-of-type {\n",
       "        vertical-align: middle;\n",
       "    }\n",
       "\n",
       "    .dataframe tbody tr th {\n",
       "        vertical-align: top;\n",
       "    }\n",
       "\n",
       "    .dataframe thead th {\n",
       "        text-align: right;\n",
       "    }\n",
       "</style>\n",
       "<table border=\"1\" class=\"dataframe\">\n",
       "  <thead>\n",
       "    <tr style=\"text-align: right;\">\n",
       "      <th></th>\n",
       "      <th>articles</th>\n",
       "      <th>female</th>\n",
       "      <th>married</th>\n",
       "      <th>kids</th>\n",
       "      <th>prestige</th>\n",
       "      <th>menpubs</th>\n",
       "    </tr>\n",
       "  </thead>\n",
       "  <tbody>\n",
       "    <tr>\n",
       "      <th>0</th>\n",
       "      <td>0</td>\n",
       "      <td>0</td>\n",
       "      <td>1</td>\n",
       "      <td>0</td>\n",
       "      <td>2.52</td>\n",
       "      <td>7</td>\n",
       "    </tr>\n",
       "    <tr>\n",
       "      <th>1</th>\n",
       "      <td>0</td>\n",
       "      <td>1</td>\n",
       "      <td>0</td>\n",
       "      <td>0</td>\n",
       "      <td>2.05</td>\n",
       "      <td>6</td>\n",
       "    </tr>\n",
       "    <tr>\n",
       "      <th>2</th>\n",
       "      <td>0</td>\n",
       "      <td>1</td>\n",
       "      <td>0</td>\n",
       "      <td>0</td>\n",
       "      <td>3.75</td>\n",
       "      <td>6</td>\n",
       "    </tr>\n",
       "    <tr>\n",
       "      <th>3</th>\n",
       "      <td>0</td>\n",
       "      <td>0</td>\n",
       "      <td>1</td>\n",
       "      <td>1</td>\n",
       "      <td>1.18</td>\n",
       "      <td>3</td>\n",
       "    </tr>\n",
       "    <tr>\n",
       "      <th>4</th>\n",
       "      <td>0</td>\n",
       "      <td>1</td>\n",
       "      <td>0</td>\n",
       "      <td>0</td>\n",
       "      <td>3.75</td>\n",
       "      <td>26</td>\n",
       "    </tr>\n",
       "    <tr>\n",
       "      <th>...</th>\n",
       "      <td>...</td>\n",
       "      <td>...</td>\n",
       "      <td>...</td>\n",
       "      <td>...</td>\n",
       "      <td>...</td>\n",
       "      <td>...</td>\n",
       "    </tr>\n",
       "    <tr>\n",
       "      <th>910</th>\n",
       "      <td>11</td>\n",
       "      <td>0</td>\n",
       "      <td>1</td>\n",
       "      <td>2</td>\n",
       "      <td>2.86</td>\n",
       "      <td>7</td>\n",
       "    </tr>\n",
       "    <tr>\n",
       "      <th>911</th>\n",
       "      <td>12</td>\n",
       "      <td>0</td>\n",
       "      <td>1</td>\n",
       "      <td>1</td>\n",
       "      <td>4.29</td>\n",
       "      <td>35</td>\n",
       "    </tr>\n",
       "    <tr>\n",
       "      <th>912</th>\n",
       "      <td>12</td>\n",
       "      <td>0</td>\n",
       "      <td>1</td>\n",
       "      <td>1</td>\n",
       "      <td>1.86</td>\n",
       "      <td>5</td>\n",
       "    </tr>\n",
       "    <tr>\n",
       "      <th>913</th>\n",
       "      <td>16</td>\n",
       "      <td>0</td>\n",
       "      <td>1</td>\n",
       "      <td>0</td>\n",
       "      <td>1.74</td>\n",
       "      <td>21</td>\n",
       "    </tr>\n",
       "    <tr>\n",
       "      <th>914</th>\n",
       "      <td>19</td>\n",
       "      <td>0</td>\n",
       "      <td>1</td>\n",
       "      <td>0</td>\n",
       "      <td>1.86</td>\n",
       "      <td>42</td>\n",
       "    </tr>\n",
       "  </tbody>\n",
       "</table>\n",
       "<p>915 rows × 6 columns</p>\n",
       "</div>"
      ],
      "text/plain": [
       "     articles  female  married  kids  prestige  menpubs\n",
       "0           0       0        1     0      2.52        7\n",
       "1           0       1        0     0      2.05        6\n",
       "2           0       1        0     0      3.75        6\n",
       "3           0       0        1     1      1.18        3\n",
       "4           0       1        0     0      3.75       26\n",
       "..        ...     ...      ...   ...       ...      ...\n",
       "910        11       0        1     2      2.86        7\n",
       "911        12       0        1     1      4.29       35\n",
       "912        12       0        1     1      1.86        5\n",
       "913        16       0        1     0      1.74       21\n",
       "914        19       0        1     0      1.86       42\n",
       "\n",
       "[915 rows x 6 columns]"
      ]
     },
     "execution_count": 54,
     "metadata": {},
     "output_type": "execute_result"
    }
   ],
   "source": [
    "inputs=df.copy()\n",
    "df"
   ]
  },
  {
   "cell_type": "code",
   "execution_count": 66,
   "id": "6b0587f0",
   "metadata": {},
   "outputs": [],
   "source": [
    "def NBDLL(params,inputs):\n",
    "    k=inputs['articles'].tolist()\n",
    "    kc1=inputs.drop(['articles'],axis=1)\n",
    "    a=kc1.to_numpy().tolist()\n",
    "    beta=params[2:7]\n",
    "    alpha=params[0]\n",
    "    n=params[1]\n",
    "    pie=params[2]\n",
    "    sum2=0\n",
    "    sum1=0\n",
    "    ll=0\n",
    "    for i in range(len(a)):\n",
    "        sum1=0\n",
    "        for j in range(len(a[i])):\n",
    "            sum1=sum1+beta[j]*a[i][j]\n",
    "        t=np.exp(sum1)\n",
    "        if a[i] == 0:\n",
    "            sum2 = sum2 + np.log(pie + ((1-pie) * (pmf_zinbd(alpha,n,k[i],t))))\n",
    "        else:\n",
    "            sum2 = sum2 + np.log((1-pie)) + (pmf_nbd(alpha,n,k[i],t))\n",
    "    return sum2"
   ]
  },
  {
   "cell_type": "code",
   "execution_count": 67,
   "id": "7b428880",
   "metadata": {},
   "outputs": [],
   "source": [
    "def NegLL(params, inputs):\n",
    "    return(-(NBDLL(params, inputs)))"
   ]
  },
  {
   "cell_type": "code",
   "execution_count": 68,
   "id": "83d5690b",
   "metadata": {},
   "outputs": [
    {
     "data": {
      "text/plain": [
       "3254.9312645281493"
      ]
     },
     "execution_count": 68,
     "metadata": {},
     "output_type": "execute_result"
    }
   ],
   "source": [
    "NegLL(params,inputs)"
   ]
  },
  {
   "cell_type": "code",
   "execution_count": 69,
   "id": "9d7903b9",
   "metadata": {},
   "outputs": [],
   "source": [
    "final=minimize(NegLL,\n",
    "         args=inputs,\n",
    "         x0=params,\n",
    "         bounds=[(0.000001, None),(0.000001, None),(0.000001,0.999999),(None, None), (None, None), (None, None), (None, None),(None, None),],\n",
    "         tol=1e-10,\n",
    "         options={'ftol' : 1e-8})\n",
    "\n"
   ]
  },
  {
   "cell_type": "code",
   "execution_count": 119,
   "id": "ba147269",
   "metadata": {},
   "outputs": [
    {
     "name": "stdout",
     "output_type": "stream",
     "text": [
      "The Value for n is  2.2642417083161877  Alpha is  1.7524151977255495  and Pie is  -0.21635544463093068\n",
      "The values for the beta parameters are [-0.21635544  0.15047396 -0.17641105  0.01523462  0.02908268]\n",
      "The Value of Maximum Log likelihood is  -1560.9583396776768\n"
     ]
    }
   ],
   "source": [
    "print(\"The Value for n is \",final.x[1],\" Alpha is \",final.x[0], \" and Pie is \",final.x[2])\n",
    "print(\"The values for the beta parameters are\",final.x[2:len(params)])\n",
    "print(\"The Value of Maximum Log likelihood is \",-1*final.fun)"
   ]
  }
 ],
 "metadata": {
  "kernelspec": {
   "display_name": "Python 3 (ipykernel)",
   "language": "python",
   "name": "python3"
  },
  "language_info": {
   "codemirror_mode": {
    "name": "ipython",
    "version": 3
   },
   "file_extension": ".py",
   "mimetype": "text/x-python",
   "name": "python",
   "nbconvert_exporter": "python",
   "pygments_lexer": "ipython3",
   "version": "3.9.12"
  }
 },
 "nbformat": 4,
 "nbformat_minor": 5
}
